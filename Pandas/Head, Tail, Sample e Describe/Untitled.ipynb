{
 "cells": [
  {
   "cell_type": "code",
   "execution_count": null,
   "id": "c85414fc-91b7-40cc-983d-45cf43308a7e",
   "metadata": {
    "tags": []
   },
   "outputs": [],
   "source": [
    "import pandas as pd"
   ]
  },
  {
   "cell_type": "code",
   "execution_count": null,
   "id": "95f798f3-6144-45de-aa01-1d2999d0ee55",
   "metadata": {
    "tags": []
   },
   "outputs": [],
   "source": [
    "pessoas = pd.read_excel('casodeestudo.xlsx', sheet_name='pessoas')\n",
    "covid = pd.read_excel('casodeestudo.xlsx', sheet_name='registros_covid')\n",
    "# pessoas.head()\n",
    "# pessoas.tail()\n",
    "# pessoas.sample()\n",
    "pessoas.describe()"
   ]
  }
 ],
 "metadata": {
  "kernelspec": {
   "display_name": "Python 3",
   "language": "python",
   "name": "python3"
  },
  "language_info": {
   "codemirror_mode": {
    "name": "ipython",
    "version": 3
   },
   "file_extension": ".py",
   "mimetype": "text/x-python",
   "name": "python",
   "nbconvert_exporter": "python",
   "pygments_lexer": "ipython3",
   "version": "3.11.1"
  },
  "vscode": {
   "interpreter": {
    "hash": "30cd786c67835cf2f669d677a2d079cda87dab4631fab31d469de44fdf8b7d0f"
   }
  }
 },
 "nbformat": 4,
 "nbformat_minor": 5
}
